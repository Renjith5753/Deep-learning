{
  "nbformat": 4,
  "nbformat_minor": 0,
  "metadata": {
    "colab": {
      "name": "Boston_housing.ipynb",
      "provenance": [],
      "authorship_tag": "ABX9TyN+b/O3JkvtYM2f5mlpATrb",
      "include_colab_link": true
    },
    "kernelspec": {
      "name": "python3",
      "display_name": "Python 3"
    },
    "language_info": {
      "name": "python"
    }
  },
  "cells": [
    {
      "cell_type": "markdown",
      "metadata": {
        "id": "view-in-github",
        "colab_type": "text"
      },
      "source": [
        "<a href=\"https://colab.research.google.com/github/Renjith5753/Deep-learning/blob/main/Boston_housing.ipynb\" target=\"_parent\"><img src=\"https://colab.research.google.com/assets/colab-badge.svg\" alt=\"Open In Colab\"/></a>"
      ]
    },
    {
      "cell_type": "code",
      "execution_count": 44,
      "metadata": {
        "id": "F2sroj7jB751"
      },
      "outputs": [],
      "source": [
        "#importing the libreries\n",
        "import pandas as pd\n",
        "import numpy as np\n",
        "import tensorflow as tf\n",
        "import matplotlib.pyplot as plt\n",
        "from keras.models import Sequential\n",
        "from keras import layers"
      ]
    },
    {
      "cell_type": "code",
      "source": [
        "#Loading the data\n",
        "data = tf.keras.datasets.boston_housing\n",
        "(x_train,y_train),(x_test,y_test)= data.load_data(path = 'boston_housing.npz',test_split = 0.25,seed =113)\n",
        "x_train.shape[1]"
      ],
      "metadata": {
        "colab": {
          "base_uri": "https://localhost:8080/"
        },
        "id": "EVtkn8BACY5c",
        "outputId": "f7e0a389-2254-4aad-d95c-0813b22c167e"
      },
      "execution_count": 40,
      "outputs": [
        {
          "output_type": "execute_result",
          "data": {
            "text/plain": [
              "13"
            ]
          },
          "metadata": {},
          "execution_count": 40
        }
      ]
    },
    {
      "cell_type": "code",
      "source": [
        "# creating the model\n",
        "\n",
        "model = Sequential()\n",
        "model.add(layers.Dense (32,activation = 'relu',input_dim = x_train.shape[1]))\n",
        "model.add(layers.Dense(64,activation = 'relu'))\n",
        "model.add(layers.Dense(32,activation = 'relu'))\n",
        "model.add(layers.Dense(16,activation = 'relu'))\n",
        "model.add(layers.Dense(1,activation = 'relu'))\n",
        "\n",
        "#compiling the model\n",
        "model.compile(optimizer ='adam',loss = 'mse',metrics=['mae'])\n",
        "\n",
        "#Fitting the model\n",
        "\n",
        "a=model.fit(x_train,y_train,epochs = 100,batch_size= 10,verbose= 2,validation_split = 0.2)\n"
      ],
      "metadata": {
        "colab": {
          "base_uri": "https://localhost:8080/"
        },
        "id": "JlMkIAZeIcnz",
        "outputId": "5d7fd9eb-bfa4-4d02-dd43-a7bc889c529b"
      },
      "execution_count": 79,
      "outputs": [
        {
          "output_type": "stream",
          "name": "stdout",
          "text": [
            "Epoch 1/100\n",
            "31/31 - 1s - loss: 214.2740 - mae: 11.1348 - val_loss: 149.8753 - val_mae: 8.3311 - 1s/epoch - 44ms/step\n",
            "Epoch 2/100\n",
            "31/31 - 0s - loss: 75.8107 - mae: 6.5188 - val_loss: 118.6528 - val_mae: 7.3478 - 205ms/epoch - 7ms/step\n",
            "Epoch 3/100\n",
            "31/31 - 0s - loss: 58.0558 - mae: 5.5128 - val_loss: 165.0922 - val_mae: 8.4343 - 331ms/epoch - 11ms/step\n",
            "Epoch 4/100\n",
            "31/31 - 0s - loss: 59.3832 - mae: 5.4517 - val_loss: 123.3724 - val_mae: 6.9808 - 102ms/epoch - 3ms/step\n",
            "Epoch 5/100\n",
            "31/31 - 0s - loss: 57.7360 - mae: 5.3838 - val_loss: 104.2942 - val_mae: 7.1703 - 98ms/epoch - 3ms/step\n",
            "Epoch 6/100\n",
            "31/31 - 0s - loss: 60.7403 - mae: 5.4181 - val_loss: 138.1874 - val_mae: 7.5295 - 94ms/epoch - 3ms/step\n",
            "Epoch 7/100\n",
            "31/31 - 0s - loss: 61.4304 - mae: 5.3313 - val_loss: 125.2845 - val_mae: 7.2750 - 91ms/epoch - 3ms/step\n",
            "Epoch 8/100\n",
            "31/31 - 0s - loss: 50.0081 - mae: 4.9674 - val_loss: 124.3077 - val_mae: 7.0205 - 103ms/epoch - 3ms/step\n",
            "Epoch 9/100\n",
            "31/31 - 0s - loss: 49.0388 - mae: 4.9298 - val_loss: 99.7064 - val_mae: 6.7766 - 96ms/epoch - 3ms/step\n",
            "Epoch 10/100\n",
            "31/31 - 0s - loss: 46.4385 - mae: 4.6117 - val_loss: 99.6453 - val_mae: 6.7196 - 101ms/epoch - 3ms/step\n",
            "Epoch 11/100\n",
            "31/31 - 0s - loss: 43.5399 - mae: 4.4077 - val_loss: 108.8812 - val_mae: 6.7790 - 82ms/epoch - 3ms/step\n",
            "Epoch 12/100\n",
            "31/31 - 0s - loss: 48.4493 - mae: 4.7885 - val_loss: 93.8376 - val_mae: 6.7888 - 90ms/epoch - 3ms/step\n",
            "Epoch 13/100\n",
            "31/31 - 0s - loss: 48.7210 - mae: 4.7831 - val_loss: 94.2957 - val_mae: 6.7364 - 95ms/epoch - 3ms/step\n",
            "Epoch 14/100\n",
            "31/31 - 0s - loss: 46.6226 - mae: 4.8149 - val_loss: 103.3455 - val_mae: 6.5244 - 89ms/epoch - 3ms/step\n",
            "Epoch 15/100\n",
            "31/31 - 0s - loss: 40.6421 - mae: 4.3541 - val_loss: 85.5386 - val_mae: 6.7075 - 78ms/epoch - 3ms/step\n",
            "Epoch 16/100\n",
            "31/31 - 0s - loss: 48.4114 - mae: 4.9763 - val_loss: 105.5581 - val_mae: 6.4593 - 83ms/epoch - 3ms/step\n",
            "Epoch 17/100\n",
            "31/31 - 0s - loss: 42.3013 - mae: 4.6154 - val_loss: 108.6341 - val_mae: 6.5106 - 91ms/epoch - 3ms/step\n",
            "Epoch 18/100\n",
            "31/31 - 0s - loss: 40.6977 - mae: 4.4275 - val_loss: 86.5669 - val_mae: 6.2613 - 95ms/epoch - 3ms/step\n",
            "Epoch 19/100\n",
            "31/31 - 0s - loss: 39.5458 - mae: 4.4420 - val_loss: 84.5848 - val_mae: 6.1282 - 79ms/epoch - 3ms/step\n",
            "Epoch 20/100\n",
            "31/31 - 0s - loss: 38.2264 - mae: 4.1335 - val_loss: 85.1936 - val_mae: 6.3427 - 78ms/epoch - 3ms/step\n",
            "Epoch 21/100\n",
            "31/31 - 0s - loss: 37.0687 - mae: 4.1061 - val_loss: 89.7179 - val_mae: 6.1693 - 98ms/epoch - 3ms/step\n",
            "Epoch 22/100\n",
            "31/31 - 0s - loss: 36.1826 - mae: 4.1187 - val_loss: 79.1667 - val_mae: 7.3149 - 82ms/epoch - 3ms/step\n",
            "Epoch 23/100\n",
            "31/31 - 0s - loss: 44.3297 - mae: 4.9328 - val_loss: 88.3861 - val_mae: 6.0159 - 94ms/epoch - 3ms/step\n",
            "Epoch 24/100\n",
            "31/31 - 0s - loss: 35.9493 - mae: 4.1379 - val_loss: 96.4796 - val_mae: 6.1825 - 97ms/epoch - 3ms/step\n",
            "Epoch 25/100\n",
            "31/31 - 0s - loss: 33.6717 - mae: 3.8726 - val_loss: 75.5403 - val_mae: 6.2718 - 90ms/epoch - 3ms/step\n",
            "Epoch 26/100\n",
            "31/31 - 0s - loss: 34.5034 - mae: 4.2691 - val_loss: 87.1951 - val_mae: 5.8152 - 90ms/epoch - 3ms/step\n",
            "Epoch 27/100\n",
            "31/31 - 0s - loss: 32.5190 - mae: 3.9283 - val_loss: 88.8860 - val_mae: 5.8738 - 112ms/epoch - 4ms/step\n",
            "Epoch 28/100\n",
            "31/31 - 0s - loss: 33.9480 - mae: 4.0581 - val_loss: 69.7624 - val_mae: 6.1394 - 88ms/epoch - 3ms/step\n",
            "Epoch 29/100\n",
            "31/31 - 0s - loss: 31.3322 - mae: 3.8824 - val_loss: 89.0750 - val_mae: 5.9064 - 93ms/epoch - 3ms/step\n",
            "Epoch 30/100\n",
            "31/31 - 0s - loss: 33.6035 - mae: 4.1409 - val_loss: 86.0292 - val_mae: 5.8956 - 86ms/epoch - 3ms/step\n",
            "Epoch 31/100\n",
            "31/31 - 0s - loss: 31.3127 - mae: 3.9305 - val_loss: 68.2016 - val_mae: 5.7944 - 97ms/epoch - 3ms/step\n",
            "Epoch 32/100\n",
            "31/31 - 0s - loss: 28.3052 - mae: 3.7133 - val_loss: 67.2502 - val_mae: 5.4487 - 96ms/epoch - 3ms/step\n",
            "Epoch 33/100\n",
            "31/31 - 0s - loss: 28.9578 - mae: 3.7195 - val_loss: 67.6303 - val_mae: 6.8518 - 92ms/epoch - 3ms/step\n",
            "Epoch 34/100\n",
            "31/31 - 0s - loss: 38.3951 - mae: 4.5864 - val_loss: 62.4249 - val_mae: 5.6757 - 87ms/epoch - 3ms/step\n",
            "Epoch 35/100\n",
            "31/31 - 0s - loss: 28.8541 - mae: 3.9294 - val_loss: 62.2663 - val_mae: 5.9122 - 96ms/epoch - 3ms/step\n",
            "Epoch 36/100\n",
            "31/31 - 0s - loss: 26.9213 - mae: 3.7411 - val_loss: 63.1839 - val_mae: 5.6038 - 93ms/epoch - 3ms/step\n",
            "Epoch 37/100\n",
            "31/31 - 0s - loss: 40.3715 - mae: 4.7078 - val_loss: 96.8784 - val_mae: 6.5766 - 96ms/epoch - 3ms/step\n",
            "Epoch 38/100\n",
            "31/31 - 0s - loss: 38.9056 - mae: 4.3913 - val_loss: 66.2111 - val_mae: 6.3664 - 80ms/epoch - 3ms/step\n",
            "Epoch 39/100\n",
            "31/31 - 0s - loss: 27.6479 - mae: 3.7255 - val_loss: 61.9895 - val_mae: 5.6122 - 99ms/epoch - 3ms/step\n",
            "Epoch 40/100\n",
            "31/31 - 0s - loss: 28.0481 - mae: 3.7615 - val_loss: 80.9751 - val_mae: 5.8397 - 93ms/epoch - 3ms/step\n",
            "Epoch 41/100\n",
            "31/31 - 0s - loss: 34.1048 - mae: 4.3894 - val_loss: 82.3084 - val_mae: 5.7455 - 84ms/epoch - 3ms/step\n",
            "Epoch 42/100\n",
            "31/31 - 0s - loss: 28.0021 - mae: 3.8806 - val_loss: 68.1067 - val_mae: 5.4020 - 92ms/epoch - 3ms/step\n",
            "Epoch 43/100\n",
            "31/31 - 0s - loss: 24.7302 - mae: 3.5872 - val_loss: 56.6065 - val_mae: 5.4449 - 96ms/epoch - 3ms/step\n",
            "Epoch 44/100\n",
            "31/31 - 0s - loss: 23.7385 - mae: 3.5698 - val_loss: 64.7287 - val_mae: 5.2398 - 94ms/epoch - 3ms/step\n",
            "Epoch 45/100\n",
            "31/31 - 0s - loss: 26.4991 - mae: 3.7522 - val_loss: 57.7492 - val_mae: 5.6237 - 106ms/epoch - 3ms/step\n",
            "Epoch 46/100\n",
            "31/31 - 0s - loss: 23.6664 - mae: 3.5221 - val_loss: 57.0219 - val_mae: 6.1611 - 97ms/epoch - 3ms/step\n",
            "Epoch 47/100\n",
            "31/31 - 0s - loss: 37.3801 - mae: 4.4110 - val_loss: 69.6332 - val_mae: 5.3562 - 93ms/epoch - 3ms/step\n",
            "Epoch 48/100\n",
            "31/31 - 0s - loss: 25.2188 - mae: 3.6149 - val_loss: 64.1058 - val_mae: 5.4531 - 96ms/epoch - 3ms/step\n",
            "Epoch 49/100\n",
            "31/31 - 0s - loss: 25.1525 - mae: 3.6302 - val_loss: 57.9313 - val_mae: 4.9184 - 79ms/epoch - 3ms/step\n",
            "Epoch 50/100\n",
            "31/31 - 0s - loss: 20.2710 - mae: 3.2844 - val_loss: 53.9624 - val_mae: 5.1070 - 108ms/epoch - 3ms/step\n",
            "Epoch 51/100\n",
            "31/31 - 0s - loss: 27.5607 - mae: 3.7891 - val_loss: 54.1052 - val_mae: 5.8191 - 94ms/epoch - 3ms/step\n",
            "Epoch 52/100\n",
            "31/31 - 0s - loss: 28.8247 - mae: 3.9183 - val_loss: 57.5583 - val_mae: 4.8870 - 89ms/epoch - 3ms/step\n",
            "Epoch 53/100\n",
            "31/31 - 0s - loss: 22.2954 - mae: 3.4454 - val_loss: 61.0604 - val_mae: 6.5797 - 96ms/epoch - 3ms/step\n",
            "Epoch 54/100\n",
            "31/31 - 0s - loss: 22.4148 - mae: 3.5553 - val_loss: 49.9036 - val_mae: 4.9532 - 81ms/epoch - 3ms/step\n",
            "Epoch 55/100\n",
            "31/31 - 0s - loss: 20.1973 - mae: 3.2901 - val_loss: 59.7688 - val_mae: 6.5263 - 100ms/epoch - 3ms/step\n",
            "Epoch 56/100\n",
            "31/31 - 0s - loss: 23.9328 - mae: 3.7138 - val_loss: 47.5815 - val_mae: 5.3541 - 96ms/epoch - 3ms/step\n",
            "Epoch 57/100\n",
            "31/31 - 0s - loss: 25.3178 - mae: 3.5476 - val_loss: 55.6330 - val_mae: 5.6374 - 83ms/epoch - 3ms/step\n",
            "Epoch 58/100\n",
            "31/31 - 0s - loss: 25.1049 - mae: 3.7213 - val_loss: 54.7340 - val_mae: 4.8731 - 99ms/epoch - 3ms/step\n",
            "Epoch 59/100\n",
            "31/31 - 0s - loss: 20.7330 - mae: 3.2415 - val_loss: 45.2784 - val_mae: 5.2247 - 100ms/epoch - 3ms/step\n",
            "Epoch 60/100\n",
            "31/31 - 0s - loss: 19.1074 - mae: 3.1547 - val_loss: 43.6322 - val_mae: 5.0838 - 90ms/epoch - 3ms/step\n",
            "Epoch 61/100\n",
            "31/31 - 0s - loss: 21.9068 - mae: 3.4773 - val_loss: 73.4861 - val_mae: 5.7567 - 95ms/epoch - 3ms/step\n",
            "Epoch 62/100\n",
            "31/31 - 0s - loss: 29.7861 - mae: 4.0510 - val_loss: 42.6979 - val_mae: 4.9895 - 81ms/epoch - 3ms/step\n",
            "Epoch 63/100\n",
            "31/31 - 0s - loss: 19.0819 - mae: 3.2446 - val_loss: 41.8444 - val_mae: 4.9483 - 92ms/epoch - 3ms/step\n",
            "Epoch 64/100\n",
            "31/31 - 0s - loss: 21.6439 - mae: 3.4615 - val_loss: 53.8342 - val_mae: 4.8784 - 88ms/epoch - 3ms/step\n",
            "Epoch 65/100\n",
            "31/31 - 0s - loss: 20.2686 - mae: 3.2791 - val_loss: 49.2471 - val_mae: 4.6704 - 83ms/epoch - 3ms/step\n",
            "Epoch 66/100\n",
            "31/31 - 0s - loss: 23.6736 - mae: 3.4727 - val_loss: 39.5724 - val_mae: 4.6207 - 115ms/epoch - 4ms/step\n",
            "Epoch 67/100\n",
            "31/31 - 0s - loss: 20.5926 - mae: 3.4898 - val_loss: 38.0040 - val_mae: 4.6573 - 87ms/epoch - 3ms/step\n",
            "Epoch 68/100\n",
            "31/31 - 0s - loss: 16.3111 - mae: 2.9442 - val_loss: 40.1066 - val_mae: 4.4826 - 101ms/epoch - 3ms/step\n",
            "Epoch 69/100\n",
            "31/31 - 0s - loss: 19.0138 - mae: 3.2556 - val_loss: 58.2078 - val_mae: 5.0326 - 103ms/epoch - 3ms/step\n",
            "Epoch 70/100\n",
            "31/31 - 0s - loss: 24.7805 - mae: 3.6405 - val_loss: 58.7995 - val_mae: 5.1743 - 89ms/epoch - 3ms/step\n",
            "Epoch 71/100\n",
            "31/31 - 0s - loss: 23.0045 - mae: 3.4690 - val_loss: 52.0431 - val_mae: 4.6947 - 86ms/epoch - 3ms/step\n",
            "Epoch 72/100\n",
            "31/31 - 0s - loss: 25.1563 - mae: 3.6451 - val_loss: 44.6372 - val_mae: 4.8380 - 92ms/epoch - 3ms/step\n",
            "Epoch 73/100\n",
            "31/31 - 0s - loss: 18.8649 - mae: 3.1870 - val_loss: 34.4294 - val_mae: 4.4699 - 98ms/epoch - 3ms/step\n",
            "Epoch 74/100\n",
            "31/31 - 0s - loss: 18.5931 - mae: 3.1720 - val_loss: 40.7130 - val_mae: 4.3526 - 93ms/epoch - 3ms/step\n",
            "Epoch 75/100\n",
            "31/31 - 0s - loss: 17.1178 - mae: 3.0227 - val_loss: 32.3233 - val_mae: 4.3166 - 98ms/epoch - 3ms/step\n",
            "Epoch 76/100\n",
            "31/31 - 0s - loss: 20.7142 - mae: 3.2510 - val_loss: 33.3687 - val_mae: 4.3688 - 137ms/epoch - 4ms/step\n",
            "Epoch 77/100\n",
            "31/31 - 0s - loss: 23.4290 - mae: 3.5210 - val_loss: 38.7304 - val_mae: 4.4862 - 96ms/epoch - 3ms/step\n",
            "Epoch 78/100\n",
            "31/31 - 0s - loss: 16.9917 - mae: 2.9494 - val_loss: 30.0919 - val_mae: 3.9223 - 101ms/epoch - 3ms/step\n",
            "Epoch 79/100\n",
            "31/31 - 0s - loss: 15.6866 - mae: 2.8179 - val_loss: 34.4446 - val_mae: 4.0288 - 97ms/epoch - 3ms/step\n",
            "Epoch 80/100\n",
            "31/31 - 0s - loss: 15.9729 - mae: 2.9540 - val_loss: 28.2161 - val_mae: 3.7342 - 101ms/epoch - 3ms/step\n",
            "Epoch 81/100\n",
            "31/31 - 0s - loss: 15.7405 - mae: 2.8685 - val_loss: 36.1322 - val_mae: 4.8800 - 101ms/epoch - 3ms/step\n",
            "Epoch 82/100\n",
            "31/31 - 0s - loss: 21.6386 - mae: 3.3927 - val_loss: 38.8169 - val_mae: 4.1170 - 101ms/epoch - 3ms/step\n",
            "Epoch 83/100\n",
            "31/31 - 0s - loss: 17.9978 - mae: 3.0772 - val_loss: 50.6689 - val_mae: 4.5574 - 94ms/epoch - 3ms/step\n",
            "Epoch 84/100\n",
            "31/31 - 0s - loss: 22.4287 - mae: 3.3439 - val_loss: 32.6157 - val_mae: 3.8705 - 91ms/epoch - 3ms/step\n",
            "Epoch 85/100\n",
            "31/31 - 0s - loss: 19.9412 - mae: 3.2491 - val_loss: 30.5299 - val_mae: 4.3775 - 99ms/epoch - 3ms/step\n",
            "Epoch 86/100\n",
            "31/31 - 0s - loss: 17.1632 - mae: 3.0767 - val_loss: 28.8450 - val_mae: 3.8521 - 92ms/epoch - 3ms/step\n",
            "Epoch 87/100\n",
            "31/31 - 0s - loss: 17.3596 - mae: 3.0328 - val_loss: 31.2919 - val_mae: 4.2012 - 98ms/epoch - 3ms/step\n",
            "Epoch 88/100\n",
            "31/31 - 0s - loss: 14.4078 - mae: 2.8203 - val_loss: 36.9351 - val_mae: 4.1730 - 94ms/epoch - 3ms/step\n",
            "Epoch 89/100\n",
            "31/31 - 0s - loss: 14.9316 - mae: 2.7839 - val_loss: 30.9509 - val_mae: 3.8394 - 86ms/epoch - 3ms/step\n",
            "Epoch 90/100\n",
            "31/31 - 0s - loss: 21.3143 - mae: 3.2047 - val_loss: 46.9499 - val_mae: 5.1264 - 104ms/epoch - 3ms/step\n",
            "Epoch 91/100\n",
            "31/31 - 0s - loss: 17.2055 - mae: 3.0287 - val_loss: 39.8335 - val_mae: 4.5083 - 96ms/epoch - 3ms/step\n",
            "Epoch 92/100\n",
            "31/31 - 0s - loss: 20.9641 - mae: 3.3383 - val_loss: 30.3609 - val_mae: 4.3728 - 90ms/epoch - 3ms/step\n",
            "Epoch 93/100\n",
            "31/31 - 0s - loss: 19.2696 - mae: 3.1655 - val_loss: 28.3690 - val_mae: 4.0249 - 94ms/epoch - 3ms/step\n",
            "Epoch 94/100\n",
            "31/31 - 0s - loss: 19.4450 - mae: 3.1251 - val_loss: 33.2672 - val_mae: 4.2959 - 95ms/epoch - 3ms/step\n",
            "Epoch 95/100\n",
            "31/31 - 0s - loss: 14.2209 - mae: 2.8165 - val_loss: 29.8256 - val_mae: 3.6662 - 104ms/epoch - 3ms/step\n",
            "Epoch 96/100\n",
            "31/31 - 0s - loss: 21.0538 - mae: 3.2215 - val_loss: 50.9281 - val_mae: 4.7284 - 90ms/epoch - 3ms/step\n",
            "Epoch 97/100\n",
            "31/31 - 0s - loss: 19.6345 - mae: 3.1933 - val_loss: 35.7726 - val_mae: 4.1294 - 106ms/epoch - 3ms/step\n",
            "Epoch 98/100\n",
            "31/31 - 0s - loss: 22.4641 - mae: 3.3288 - val_loss: 48.7336 - val_mae: 5.8222 - 78ms/epoch - 3ms/step\n",
            "Epoch 99/100\n",
            "31/31 - 0s - loss: 20.7530 - mae: 3.2828 - val_loss: 26.5626 - val_mae: 3.9775 - 81ms/epoch - 3ms/step\n",
            "Epoch 100/100\n",
            "31/31 - 0s - loss: 13.4787 - mae: 2.7485 - val_loss: 31.5265 - val_mae: 3.8932 - 104ms/epoch - 3ms/step\n"
          ]
        }
      ]
    },
    {
      "cell_type": "code",
      "source": [
        "#learning curve\n",
        "\n",
        "plt.title('learning curve')\n",
        "plt.xlabel('epoch')\n",
        "plt.ylabel('mse')\n",
        "plt.plot(a.history['loss'],label = 'train')\n",
        "plt.plot(a.history['val_loss'],label= 'validation')\n",
        "plt.legend()\n",
        "plt.show()"
      ],
      "metadata": {
        "colab": {
          "base_uri": "https://localhost:8080/",
          "height": 295
        },
        "id": "xmz41YwtRE8B",
        "outputId": "739cf5c8-2304-4bd6-a06d-25735750c430"
      },
      "execution_count": 80,
      "outputs": [
        {
          "output_type": "display_data",
          "data": {
            "text/plain": [
              "<Figure size 432x288 with 1 Axes>"
            ],
            "image/png": "[encoded data removed]"
          },
          "metadata": {
            "needs_background": "light"
          }
        }
      ]
    },
    {
      "cell_type": "code",
      "source": [
        "#model evaluation\n",
        "\n",
        "mse,mae = model.evaluate(x_test,y_test)\n",
        "print(mse,mae)"
      ],
      "metadata": {
        "colab": {
          "base_uri": "https://localhost:8080/"
        },
        "id": "Q5v5Qf_cQpNa",
        "outputId": "53a7bece-3c49-48b6-ce03-e66d1dd98e26"
      },
      "execution_count": 81,
      "outputs": [
        {
          "output_type": "stream",
          "name": "stdout",
          "text": [
            "4/4 [==============================] - 0s 4ms/step - loss: 23.0173 - mae: 3.5050\n",
            "23.01725959777832 3.504955291748047\n"
          ]
        }
      ]
    }
  ]
}