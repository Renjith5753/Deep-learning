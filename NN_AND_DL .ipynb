{
 "cells": [
  {
   "cell_type": "code",
   "execution_count": 104,
   "metadata": {
    "id": "quThNGGvJ5ww"
   },
   "outputs": [],
   "source": [
    "#importing the libraries\n",
    "\n",
    "import pandas as pd\n",
    "import numpy as np\n",
    "from scipy.io import loadmat\n",
    "import scipy.io as io\n",
    "from scipy.optimize import minimize\n",
    "from sklearn.preprocessing import StandardScaler\n",
    "from sklearn.metrics import accuracy_score\n",
    "import matplotlib.pyplot as plt\n",
    "import seaborn as sns\n",
    "import tensorflow as tf\n",
    "from tensorflow import keras\n",
    "\n"
   ]
  },
  {
   "cell_type": "code",
   "execution_count": 3,
   "metadata": {
    "colab": {
     "base_uri": "https://localhost:8080/",
     "height": 73,
     "resources": {
      "http://localhost:8080/nbextensions/google.colab/files.js": {
       "data": "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",
       "headers": [
        [
         "content-type",
         "application/javascript"
        ]
       ],
       "ok": true,
       "status": 200,
       "status_text": ""
      }
     }
    },
    "id": "CYZzpy53lOg4",
    "outputId": "67df834b-62bc-49e7-e266-6b8e14b61128"
   },
   "outputs": [
    {
     "data": {
      "text/html": [
       "\n",
       "     <input type=\"file\" id=\"files-5e477ff2-c637-4800-985e-73acf02b2c5e\" name=\"files[]\" multiple disabled\n",
       "        style=\"border:none\" />\n",
       "     <output id=\"result-5e477ff2-c637-4800-985e-73acf02b2c5e\">\n",
       "      Upload widget is only available when the cell has been executed in the\n",
       "      current browser session. Please rerun this cell to enable.\n",
       "      </output>\n",
       "      <script src=\"/nbextensions/google.colab/files.js\"></script> "
      ],
      "text/plain": [
       "<IPython.core.display.HTML object>"
      ]
     },
     "metadata": {},
     "output_type": "display_data"
    },
    {
     "name": "stdout",
     "output_type": "stream",
     "text": [
      "Saving WLDataCW (1).mat to WLDataCW (1).mat\n"
     ]
    }
   ],
   "source": [
    "# uploading the files\n",
    "from google.colab import files\n",
    "files.upload()"
   ]
  },
  {
   "cell_type": "code",
   "execution_count": 4,
   "metadata": {
    "colab": {
     "base_uri": "https://localhost:8080/"
    },
    "id": "bB0TresyLmXZ",
    "outputId": "7428ab18-c8a6-4444-803b-1900234e5000"
   },
   "outputs": [
    {
     "data": {
      "text/plain": [
       "dict_keys(['__header__', '__version__', '__globals__', 'data', 'label'])"
      ]
     },
     "execution_count": 4,
     "metadata": {},
     "output_type": "execute_result"
    }
   ],
   "source": [
    "#loading the dataset\n",
    "\n",
    "mat= loadmat(r'WLDataCW (1).mat')\n",
    "mat.keys()"
   ]
  },
  {
   "cell_type": "code",
   "execution_count": 5,
   "metadata": {
    "colab": {
     "base_uri": "https://localhost:8080/"
    },
    "id": "b_WVAGFQMdfy",
    "outputId": "ac609cfb-0a24-453a-bfae-de6a8022eea8"
   },
   "outputs": [
    {
     "name": "stdout",
     "output_type": "stream",
     "text": [
      "(62, 512, 360)\n",
      "(1, 360)\n"
     ]
    }
   ],
   "source": [
    "#assigning datapoints and cls labels\n",
    "data_pts = mat['data']\n",
    "cls_labls = mat['label']\n",
    "print(data_pts.shape)\n",
    "print(cls_labls.shape)"
   ]
  },
  {
   "cell_type": "code",
   "execution_count": 6,
   "metadata": {
    "colab": {
     "base_uri": "https://localhost:8080/"
    },
    "id": "azVBmJOoOgPb",
    "outputId": "c9cc0500-c68c-454f-a053-73e800167340"
   },
   "outputs": [
    {
     "name": "stdout",
     "output_type": "stream",
     "text": [
      "(360, 62, 512)\n",
      "(360,)\n"
     ]
    }
   ],
   "source": [
    "#reshaping the arrays\n",
    "x =np.rollaxis(data_pts,2,0)\n",
    "y_ = np.rollaxis(cls_labls,1,0)\n",
    "y= y_.flatten()\n",
    "print(x.shape)\n",
    "print(y.shape)\n"
   ]
  },
  {
   "cell_type": "code",
   "execution_count": null,
   "metadata": {
    "id": "fjAcD7wohMuo"
   },
   "outputs": [],
   "source": [
    "for n in range(512):\n",
    "  data= x[:,:,n]\n",
    "  print(data)"
   ]
  },
  {
   "cell_type": "code",
   "execution_count": 32,
   "metadata": {
    "colab": {
     "base_uri": "https://localhost:8080/",
     "height": 487
    },
    "id": "nhzLKz6guETL",
    "outputId": "b1b1ecab-dcf2-4b24-e8da-6d359f1e9598"
   },
   "outputs": [
    {
     "data": {
      "text/html": [
       "\n",
       "  <div id=\"df-a15ee814-a118-4472-917b-1b221df1a4e5\">\n",
       "    <div class=\"colab-df-container\">\n",
       "      <div>\n",
       "<style scoped>\n",
       "    .dataframe tbody tr th:only-of-type {\n",
       "        vertical-align: middle;\n",
       "    }\n",
       "\n",
       "    .dataframe tbody tr th {\n",
       "        vertical-align: top;\n",
       "    }\n",
       "\n",
       "    .dataframe thead th {\n",
       "        text-align: right;\n",
       "    }\n",
       "</style>\n",
       "<table border=\"1\" class=\"dataframe\">\n",
       "  <thead>\n",
       "    <tr style=\"text-align: right;\">\n",
       "      <th></th>\n",
       "      <th>0</th>\n",
       "      <th>1</th>\n",
       "      <th>2</th>\n",
       "      <th>3</th>\n",
       "      <th>4</th>\n",
       "      <th>5</th>\n",
       "      <th>6</th>\n",
       "      <th>7</th>\n",
       "      <th>8</th>\n",
       "      <th>9</th>\n",
       "      <th>...</th>\n",
       "      <th>53</th>\n",
       "      <th>54</th>\n",
       "      <th>55</th>\n",
       "      <th>56</th>\n",
       "      <th>57</th>\n",
       "      <th>58</th>\n",
       "      <th>59</th>\n",
       "      <th>60</th>\n",
       "      <th>61</th>\n",
       "      <th>label</th>\n",
       "    </tr>\n",
       "  </thead>\n",
       "  <tbody>\n",
       "    <tr>\n",
       "      <th>0</th>\n",
       "      <td>-3.362456</td>\n",
       "      <td>3.596833</td>\n",
       "      <td>8.323660</td>\n",
       "      <td>-4.004828</td>\n",
       "      <td>-1.472134</td>\n",
       "      <td>3.714885</td>\n",
       "      <td>13.737923</td>\n",
       "      <td>-0.913710</td>\n",
       "      <td>0.266750</td>\n",
       "      <td>-3.042869</td>\n",
       "      <td>...</td>\n",
       "      <td>-2.684255</td>\n",
       "      <td>4.683746</td>\n",
       "      <td>13.240414</td>\n",
       "      <td>5.548093</td>\n",
       "      <td>15.444119</td>\n",
       "      <td>-0.521052</td>\n",
       "      <td>19.832529</td>\n",
       "      <td>12.131377</td>\n",
       "      <td>17.854654</td>\n",
       "      <td>0</td>\n",
       "    </tr>\n",
       "    <tr>\n",
       "      <th>1</th>\n",
       "      <td>12.579647</td>\n",
       "      <td>15.502164</td>\n",
       "      <td>3.991107</td>\n",
       "      <td>13.868857</td>\n",
       "      <td>8.440236</td>\n",
       "      <td>13.391046</td>\n",
       "      <td>8.226375</td>\n",
       "      <td>22.309374</td>\n",
       "      <td>-12.167016</td>\n",
       "      <td>-2.735142</td>\n",
       "      <td>...</td>\n",
       "      <td>-13.785090</td>\n",
       "      <td>-17.890724</td>\n",
       "      <td>-26.001862</td>\n",
       "      <td>-0.468893</td>\n",
       "      <td>0.016655</td>\n",
       "      <td>-7.948845</td>\n",
       "      <td>-8.792702</td>\n",
       "      <td>-5.919636</td>\n",
       "      <td>-22.282345</td>\n",
       "      <td>0</td>\n",
       "    </tr>\n",
       "    <tr>\n",
       "      <th>2</th>\n",
       "      <td>1.277068</td>\n",
       "      <td>8.415224</td>\n",
       "      <td>-11.774738</td>\n",
       "      <td>-31.223522</td>\n",
       "      <td>-1.356515</td>\n",
       "      <td>-0.449841</td>\n",
       "      <td>0.730077</td>\n",
       "      <td>23.432961</td>\n",
       "      <td>0.346550</td>\n",
       "      <td>2.665467</td>\n",
       "      <td>...</td>\n",
       "      <td>-2.411576</td>\n",
       "      <td>-4.047780</td>\n",
       "      <td>-13.005358</td>\n",
       "      <td>4.241107</td>\n",
       "      <td>13.812962</td>\n",
       "      <td>2.445725</td>\n",
       "      <td>-3.371203</td>\n",
       "      <td>-8.124169</td>\n",
       "      <td>-11.228072</td>\n",
       "      <td>0</td>\n",
       "    </tr>\n",
       "    <tr>\n",
       "      <th>3</th>\n",
       "      <td>-14.394360</td>\n",
       "      <td>-9.410032</td>\n",
       "      <td>-32.955605</td>\n",
       "      <td>-21.303513</td>\n",
       "      <td>-1.271285</td>\n",
       "      <td>-1.407308</td>\n",
       "      <td>9.426048</td>\n",
       "      <td>-0.823189</td>\n",
       "      <td>-6.302212</td>\n",
       "      <td>-4.798160</td>\n",
       "      <td>...</td>\n",
       "      <td>1.396790</td>\n",
       "      <td>-6.853747</td>\n",
       "      <td>-3.879845</td>\n",
       "      <td>-6.115176</td>\n",
       "      <td>-12.984893</td>\n",
       "      <td>5.214228</td>\n",
       "      <td>0.696291</td>\n",
       "      <td>1.420030</td>\n",
       "      <td>-13.764502</td>\n",
       "      <td>0</td>\n",
       "    </tr>\n",
       "    <tr>\n",
       "      <th>4</th>\n",
       "      <td>-33.929226</td>\n",
       "      <td>-33.737457</td>\n",
       "      <td>-42.875732</td>\n",
       "      <td>-10.908735</td>\n",
       "      <td>-8.217500</td>\n",
       "      <td>-3.506203</td>\n",
       "      <td>13.825042</td>\n",
       "      <td>-1.425211</td>\n",
       "      <td>-1.301115</td>\n",
       "      <td>-2.035506</td>\n",
       "      <td>...</td>\n",
       "      <td>-3.832620</td>\n",
       "      <td>-3.555815</td>\n",
       "      <td>-3.242592</td>\n",
       "      <td>-1.634755</td>\n",
       "      <td>15.554104</td>\n",
       "      <td>-7.274704</td>\n",
       "      <td>5.880332</td>\n",
       "      <td>-2.542328</td>\n",
       "      <td>5.491176</td>\n",
       "      <td>0</td>\n",
       "    </tr>\n",
       "    <tr>\n",
       "      <th>...</th>\n",
       "      <td>...</td>\n",
       "      <td>...</td>\n",
       "      <td>...</td>\n",
       "      <td>...</td>\n",
       "      <td>...</td>\n",
       "      <td>...</td>\n",
       "      <td>...</td>\n",
       "      <td>...</td>\n",
       "      <td>...</td>\n",
       "      <td>...</td>\n",
       "      <td>...</td>\n",
       "      <td>...</td>\n",
       "      <td>...</td>\n",
       "      <td>...</td>\n",
       "      <td>...</td>\n",
       "      <td>...</td>\n",
       "      <td>...</td>\n",
       "      <td>...</td>\n",
       "      <td>...</td>\n",
       "      <td>...</td>\n",
       "      <td>...</td>\n",
       "    </tr>\n",
       "    <tr>\n",
       "      <th>355</th>\n",
       "      <td>7.381953</td>\n",
       "      <td>7.740952</td>\n",
       "      <td>2.794471</td>\n",
       "      <td>8.394994</td>\n",
       "      <td>16.428465</td>\n",
       "      <td>10.392040</td>\n",
       "      <td>4.318801</td>\n",
       "      <td>-1.512521</td>\n",
       "      <td>7.800765</td>\n",
       "      <td>9.299529</td>\n",
       "      <td>...</td>\n",
       "      <td>5.237462</td>\n",
       "      <td>15.670440</td>\n",
       "      <td>10.735346</td>\n",
       "      <td>10.025942</td>\n",
       "      <td>-1.376872</td>\n",
       "      <td>4.005838</td>\n",
       "      <td>5.825343</td>\n",
       "      <td>1.136622</td>\n",
       "      <td>8.822712</td>\n",
       "      <td>1</td>\n",
       "    </tr>\n",
       "    <tr>\n",
       "      <th>356</th>\n",
       "      <td>-10.743827</td>\n",
       "      <td>-7.791761</td>\n",
       "      <td>-0.062055</td>\n",
       "      <td>-18.667692</td>\n",
       "      <td>-8.980803</td>\n",
       "      <td>-10.347117</td>\n",
       "      <td>-12.026600</td>\n",
       "      <td>5.783433</td>\n",
       "      <td>-13.175392</td>\n",
       "      <td>-11.429005</td>\n",
       "      <td>...</td>\n",
       "      <td>2.154408</td>\n",
       "      <td>6.771527</td>\n",
       "      <td>5.520761</td>\n",
       "      <td>-18.025486</td>\n",
       "      <td>-4.703998</td>\n",
       "      <td>5.054066</td>\n",
       "      <td>1.903580</td>\n",
       "      <td>2.451541</td>\n",
       "      <td>8.307706</td>\n",
       "      <td>1</td>\n",
       "    </tr>\n",
       "    <tr>\n",
       "      <th>357</th>\n",
       "      <td>24.213781</td>\n",
       "      <td>28.038839</td>\n",
       "      <td>30.083735</td>\n",
       "      <td>7.906794</td>\n",
       "      <td>16.075668</td>\n",
       "      <td>13.887076</td>\n",
       "      <td>19.467886</td>\n",
       "      <td>11.003078</td>\n",
       "      <td>11.878263</td>\n",
       "      <td>13.338130</td>\n",
       "      <td>...</td>\n",
       "      <td>12.741323</td>\n",
       "      <td>11.218057</td>\n",
       "      <td>9.138403</td>\n",
       "      <td>4.458954</td>\n",
       "      <td>8.247229</td>\n",
       "      <td>14.012955</td>\n",
       "      <td>2.964721</td>\n",
       "      <td>9.013945</td>\n",
       "      <td>7.063335</td>\n",
       "      <td>1</td>\n",
       "    </tr>\n",
       "    <tr>\n",
       "      <th>358</th>\n",
       "      <td>-1.038762</td>\n",
       "      <td>-5.467292</td>\n",
       "      <td>8.773671</td>\n",
       "      <td>11.661165</td>\n",
       "      <td>-0.171522</td>\n",
       "      <td>-0.649494</td>\n",
       "      <td>-5.640747</td>\n",
       "      <td>17.967089</td>\n",
       "      <td>1.222247</td>\n",
       "      <td>-4.120433</td>\n",
       "      <td>...</td>\n",
       "      <td>4.182127</td>\n",
       "      <td>2.147061</td>\n",
       "      <td>2.717524</td>\n",
       "      <td>2.729948</td>\n",
       "      <td>-7.111262</td>\n",
       "      <td>0.835374</td>\n",
       "      <td>-5.636830</td>\n",
       "      <td>3.063553</td>\n",
       "      <td>-1.096807</td>\n",
       "      <td>1</td>\n",
       "    </tr>\n",
       "    <tr>\n",
       "      <th>359</th>\n",
       "      <td>-31.547560</td>\n",
       "      <td>58.892391</td>\n",
       "      <td>-80.466240</td>\n",
       "      <td>-204.663376</td>\n",
       "      <td>-21.847668</td>\n",
       "      <td>-23.973700</td>\n",
       "      <td>-12.835320</td>\n",
       "      <td>-91.590553</td>\n",
       "      <td>-37.025032</td>\n",
       "      <td>-33.296280</td>\n",
       "      <td>...</td>\n",
       "      <td>-45.553062</td>\n",
       "      <td>-48.626007</td>\n",
       "      <td>-56.121475</td>\n",
       "      <td>-32.038094</td>\n",
       "      <td>-4.669665</td>\n",
       "      <td>-53.074532</td>\n",
       "      <td>-34.053741</td>\n",
       "      <td>-34.455082</td>\n",
       "      <td>-66.170212</td>\n",
       "      <td>1</td>\n",
       "    </tr>\n",
       "  </tbody>\n",
       "</table>\n",
       "<p>360 rows × 63 columns</p>\n",
       "</div>\n",
       "      <button class=\"colab-df-convert\" onclick=\"convertToInteractive('df-a15ee814-a118-4472-917b-1b221df1a4e5')\"\n",
       "              title=\"Convert this dataframe to an interactive table.\"\n",
       "              style=\"display:none;\">\n",
       "        \n",
       "  <svg xmlns=\"http://www.w3.org/2000/svg\" height=\"24px\"viewBox=\"0 0 24 24\"\n",
       "       width=\"24px\">\n",
       "    <path d=\"M0 0h24v24H0V0z\" fill=\"none\"/>\n",
       "    <path d=\"M18.56 5.44l.94 2.06.94-2.06 2.06-.94-2.06-.94-.94-2.06-.94 2.06-2.06.94zm-11 1L8.5 8.5l.94-2.06 2.06-.94-2.06-.94L8.5 2.5l-.94 2.06-2.06.94zm10 10l.94 2.06.94-2.06 2.06-.94-2.06-.94-.94-2.06-.94 2.06-2.06.94z\"/><path d=\"M17.41 7.96l-1.37-1.37c-.4-.4-.92-.59-1.43-.59-.52 0-1.04.2-1.43.59L10.3 9.45l-7.72 7.72c-.78.78-.78 2.05 0 2.83L4 21.41c.39.39.9.59 1.41.59.51 0 1.02-.2 1.41-.59l7.78-7.78 2.81-2.81c.8-.78.8-2.07 0-2.86zM5.41 20L4 18.59l7.72-7.72 1.47 1.35L5.41 20z\"/>\n",
       "  </svg>\n",
       "      </button>\n",
       "      \n",
       "  <style>\n",
       "    .colab-df-container {\n",
       "      display:flex;\n",
       "      flex-wrap:wrap;\n",
       "      gap: 12px;\n",
       "    }\n",
       "\n",
       "    .colab-df-convert {\n",
       "      background-color: #E8F0FE;\n",
       "      border: none;\n",
       "      border-radius: 50%;\n",
       "      cursor: pointer;\n",
       "      display: none;\n",
       "      fill: #1967D2;\n",
       "      height: 32px;\n",
       "      padding: 0 0 0 0;\n",
       "      width: 32px;\n",
       "    }\n",
       "\n",
       "    .colab-df-convert:hover {\n",
       "      background-color: #E2EBFA;\n",
       "      box-shadow: 0px 1px 2px rgba(60, 64, 67, 0.3), 0px 1px 3px 1px rgba(60, 64, 67, 0.15);\n",
       "      fill: #174EA6;\n",
       "    }\n",
       "\n",
       "    [theme=dark] .colab-df-convert {\n",
       "      background-color: #3B4455;\n",
       "      fill: #D2E3FC;\n",
       "    }\n",
       "\n",
       "    [theme=dark] .colab-df-convert:hover {\n",
       "      background-color: #434B5C;\n",
       "      box-shadow: 0px 1px 3px 1px rgba(0, 0, 0, 0.15);\n",
       "      filter: drop-shadow(0px 1px 2px rgba(0, 0, 0, 0.3));\n",
       "      fill: #FFFFFF;\n",
       "    }\n",
       "  </style>\n",
       "\n",
       "      <script>\n",
       "        const buttonEl =\n",
       "          document.querySelector('#df-a15ee814-a118-4472-917b-1b221df1a4e5 button.colab-df-convert');\n",
       "        buttonEl.style.display =\n",
       "          google.colab.kernel.accessAllowed ? 'block' : 'none';\n",
       "\n",
       "        async function convertToInteractive(key) {\n",
       "          const element = document.querySelector('#df-a15ee814-a118-4472-917b-1b221df1a4e5');\n",
       "          const dataTable =\n",
       "            await google.colab.kernel.invokeFunction('convertToInteractive',\n",
       "                                                     [key], {});\n",
       "          if (!dataTable) return;\n",
       "\n",
       "          const docLinkHtml = 'Like what you see? Visit the ' +\n",
       "            '<a target=\"_blank\" href=https://colab.research.google.com/notebooks/data_table.ipynb>data table notebook</a>'\n",
       "            + ' to learn more about interactive tables.';\n",
       "          element.innerHTML = '';\n",
       "          dataTable['output_type'] = 'display_data';\n",
       "          await google.colab.output.renderOutput(dataTable, element);\n",
       "          const docLink = document.createElement('div');\n",
       "          docLink.innerHTML = docLinkHtml;\n",
       "          element.appendChild(docLink);\n",
       "        }\n",
       "      </script>\n",
       "    </div>\n",
       "  </div>\n",
       "  "
      ],
      "text/plain": [
       "             0          1          2           3          4          5  \\\n",
       "0    -3.362456   3.596833   8.323660   -4.004828  -1.472134   3.714885   \n",
       "1    12.579647  15.502164   3.991107   13.868857   8.440236  13.391046   \n",
       "2     1.277068   8.415224 -11.774738  -31.223522  -1.356515  -0.449841   \n",
       "3   -14.394360  -9.410032 -32.955605  -21.303513  -1.271285  -1.407308   \n",
       "4   -33.929226 -33.737457 -42.875732  -10.908735  -8.217500  -3.506203   \n",
       "..         ...        ...        ...         ...        ...        ...   \n",
       "355   7.381953   7.740952   2.794471    8.394994  16.428465  10.392040   \n",
       "356 -10.743827  -7.791761  -0.062055  -18.667692  -8.980803 -10.347117   \n",
       "357  24.213781  28.038839  30.083735    7.906794  16.075668  13.887076   \n",
       "358  -1.038762  -5.467292   8.773671   11.661165  -0.171522  -0.649494   \n",
       "359 -31.547560  58.892391 -80.466240 -204.663376 -21.847668 -23.973700   \n",
       "\n",
       "             6          7          8          9  ...         53         54  \\\n",
       "0    13.737923  -0.913710   0.266750  -3.042869  ...  -2.684255   4.683746   \n",
       "1     8.226375  22.309374 -12.167016  -2.735142  ... -13.785090 -17.890724   \n",
       "2     0.730077  23.432961   0.346550   2.665467  ...  -2.411576  -4.047780   \n",
       "3     9.426048  -0.823189  -6.302212  -4.798160  ...   1.396790  -6.853747   \n",
       "4    13.825042  -1.425211  -1.301115  -2.035506  ...  -3.832620  -3.555815   \n",
       "..         ...        ...        ...        ...  ...        ...        ...   \n",
       "355   4.318801  -1.512521   7.800765   9.299529  ...   5.237462  15.670440   \n",
       "356 -12.026600   5.783433 -13.175392 -11.429005  ...   2.154408   6.771527   \n",
       "357  19.467886  11.003078  11.878263  13.338130  ...  12.741323  11.218057   \n",
       "358  -5.640747  17.967089   1.222247  -4.120433  ...   4.182127   2.147061   \n",
       "359 -12.835320 -91.590553 -37.025032 -33.296280  ... -45.553062 -48.626007   \n",
       "\n",
       "            55         56         57         58         59         60  \\\n",
       "0    13.240414   5.548093  15.444119  -0.521052  19.832529  12.131377   \n",
       "1   -26.001862  -0.468893   0.016655  -7.948845  -8.792702  -5.919636   \n",
       "2   -13.005358   4.241107  13.812962   2.445725  -3.371203  -8.124169   \n",
       "3    -3.879845  -6.115176 -12.984893   5.214228   0.696291   1.420030   \n",
       "4    -3.242592  -1.634755  15.554104  -7.274704   5.880332  -2.542328   \n",
       "..         ...        ...        ...        ...        ...        ...   \n",
       "355  10.735346  10.025942  -1.376872   4.005838   5.825343   1.136622   \n",
       "356   5.520761 -18.025486  -4.703998   5.054066   1.903580   2.451541   \n",
       "357   9.138403   4.458954   8.247229  14.012955   2.964721   9.013945   \n",
       "358   2.717524   2.729948  -7.111262   0.835374  -5.636830   3.063553   \n",
       "359 -56.121475 -32.038094  -4.669665 -53.074532 -34.053741 -34.455082   \n",
       "\n",
       "            61  label  \n",
       "0    17.854654      0  \n",
       "1   -22.282345      0  \n",
       "2   -11.228072      0  \n",
       "3   -13.764502      0  \n",
       "4     5.491176      0  \n",
       "..         ...    ...  \n",
       "355   8.822712      1  \n",
       "356   8.307706      1  \n",
       "357   7.063335      1  \n",
       "358  -1.096807      1  \n",
       "359 -66.170212      1  \n",
       "\n",
       "[360 rows x 63 columns]"
      ]
     },
     "execution_count": 32,
     "metadata": {},
     "output_type": "execute_result"
    }
   ],
   "source": [
    "#creating the dataframe with 360 raws and 63 coloumns with labels included\n",
    "df = pd.DataFrame(data)\n",
    "#assigning the labels\n",
    "df['label']= y\n",
    "df"
   ]
  },
  {
   "cell_type": "markdown",
   "metadata": {
    "id": "ecYllVqHwnVi"
   },
   "source": [
    "\n",
    "\n",
    "Applying logistic regression from scratch"
   ]
  },
  {
   "cell_type": "code",
   "execution_count": 100,
   "metadata": {
    "id": "mb2BTtrhwsXA"
   },
   "outputs": [],
   "source": [
    "from IPython.core.display import display_javascript\n",
    "\n",
    "#craeting the sigmoid function\n",
    "def fun_sigmoid(s):\n",
    "  #'''calculating the sigmoid of s'''\n",
    "    return 1.0/(1 + np.exp(-s))\n",
    "\n",
    "#creating the loss function\n",
    "def loss_(y, y_hat):\n",
    "  #''' y_hat is the predicted labels and y is the true label'''\n",
    "    loss_ = -np.mean(y*(np.log(y_hat)) - (1-y)*np.log(1-y_hat))\n",
    "    return loss_\n",
    "\n",
    "def gradient_decent(X, y, y_hat):\n",
    "  #'''calculating the gradient decent \n",
    "                  #of the sigmoid function'''\n",
    "    g = X.shape[0]\n",
    "    gf = (1/m)*np.dot(X.T, (y_hat - y))\n",
    "    gf_1 = (1/m)*np.sum((y_hat - y)) \n",
    "    return gf,gf_1\n",
    "\n",
    "#normalising the data for better performance\n",
    "def normalize_raws(X):\n",
    "  #'''The fuction will normalize the each and every raws of the matrix'''\n",
    "    g, j = X.shape           \n",
    "    for i in range(j):\n",
    "        X = (X - X.mean(axis=0))/X.std(axis=0)       \n",
    "    return X  #a numpy matrix is returned\n"
   ]
  },
  {
   "cell_type": "code",
   "execution_count": 92,
   "metadata": {
    "id": "Dq6eyll4wy4K"
   },
   "outputs": [],
   "source": [
    "from sys import base_exec_prefix\n",
    "\n",
    "def train_data(X, y, bis, epoch_s, lern_r):\n",
    "  #'''training the dataset and updating the parameters'''\n",
    "    g, n = X.shape\n",
    "    wei_gt = np.zeros((n,1)) #assigning values to weight and bias\n",
    "    b_ias = 0\n",
    "    y = y.reshape(g,1)\n",
    "    x = X\n",
    "    los_strd = []\n",
    "    for epoch in range(epoch_s):\n",
    "        for i in range((g-1)//bis + 1):\n",
    "            start_i = i*bis\n",
    "            end_i = start_i + bis\n",
    "            x_b = X[start_i:end_i]\n",
    "            y_b = y[start_i:end_i]\n",
    "            \n",
    "            y_hat = sigmoid(np.dot(x_b, wei_gt) + b_ias)\n",
    "            gf, gf_1 = gradients(x_b, yb, y_hat)\n",
    "            wei_gt -= lr*gf #updating the parametrs\n",
    "            b_ias -= lr*gf_1\n",
    "        \n",
    "        l = loss_(y, sigmoid(np.dot(X, wei_gt) + b_ias))\n",
    "        los_strd.append(l)\n",
    "        \n",
    "    return wei_gt, b_ias, los_strd #returning the bias ,loss and weight"
   ]
  },
  {
   "cell_type": "code",
   "execution_count": 102,
   "metadata": {
    "colab": {
     "base_uri": "https://localhost:8080/"
    },
    "id": "l-UF5SFXxW4a",
    "outputId": "27701dae-ffb5-4362-b9cf-9cd95badd3b6"
   },
   "outputs": [
    {
     "name": "stderr",
     "output_type": "stream",
     "text": [
      "/usr/local/lib/python3.7/dist-packages/ipykernel_launcher.py:3: RuntimeWarning: divide by zero encountered in log\n",
      "  This is separate from the ipykernel package so we can avoid doing imports until\n",
      "/usr/local/lib/python3.7/dist-packages/ipykernel_launcher.py:3: RuntimeWarning: invalid value encountered in multiply\n",
      "  This is separate from the ipykernel package so we can avoid doing imports until\n"
     ]
    },
    {
     "data": {
      "text/plain": [
       "0.8833333333333333"
      ]
     },
     "execution_count": 102,
     "metadata": {},
     "output_type": "execute_result"
    }
   ],
   "source": [
    "def fun_predict(X):\n",
    "  #'''function to store predictions'''\n",
    "    x = X\n",
    "    p = sigmoid(np.dot(X, wei_gt) + b_ias) \n",
    "    list_pred = []\n",
    "    list_pred = [1 if i > 0.5 else 0 for i in p]\n",
    "    return np.array(list_pred)\n",
    "\n",
    "def mdl_accrsy(y, y_hat):\n",
    "  #'''calculating the accuracy of the model'''\n",
    "    mdl_accrsy = np.sum(y == y_hat) / len(y)\n",
    "    return mdl_accrsy\n",
    "wei_gt, b_ias, lern_r = train(df, y, bs=100, epochs=1000, lr=0.01)\n",
    "mdl_accrsy(y, fun_predict(df))"
   ]
  },
  {
   "cell_type": "markdown",
   "metadata": {
    "id": "l0fZtBhtz9ed"
   },
   "source": [
    "DEEP LEARNING MODEL"
   ]
  },
  {
   "cell_type": "code",
   "execution_count": 105,
   "metadata": {
    "id": "wcbRTnaVNXJU"
   },
   "outputs": [],
   "source": [
    "from sklearn.model_selection import train_test_split\n",
    "\n",
    "def preprocess_inputs(df):\n",
    "    df = df.copy()\n",
    "    y = df['label'].copy()\n",
    "    X = df.drop('label', axis=1).copy()\n",
    "    X_train, X_test, y_train, y_test = train_test_split(X, y, train_size=0.8, random_state=123)\n",
    "    return X_train, X_test, y_train, y_test"
   ]
  },
  {
   "cell_type": "code",
   "execution_count": 106,
   "metadata": {
    "id": "9W5WNhT0Ncwn"
   },
   "outputs": [],
   "source": [
    "X_train, X_test, y_train, y_test = preprocess_inputs(df)"
   ]
  },
  {
   "cell_type": "code",
   "execution_count": null,
   "metadata": {
    "id": "cj_CgSJvNqU_"
   },
   "outputs": [],
   "source": [
    "inputs = tf.keras.Input(shape=(X_train.shape[1],))\n",
    "expand_dims = tf.expand_dims(inputs, axis=2)\n",
    "gru = tf.keras.layers.GRU(256, return_sequences=True)(expand_dims) \n",
    "flatten = tf.keras.layers.Flatten()(gru)\n",
    "outputs = tf.keras.layers.Dense(3, activation='softmax')(flatten) \n",
    "model = tf.keras.Model(inputs=inputs, outputs=outputs) #creating the model\n",
    "print(model.summary()) #printing the model summery"
   ]
  },
  {
   "cell_type": "code",
   "execution_count": 108,
   "metadata": {
    "colab": {
     "base_uri": "https://localhost:8080/"
    },
    "id": "HD7sf1mgNzPv",
    "outputId": "d401e5e4-b82a-4385-fb54-b7899a370a22"
   },
   "outputs": [
    {
     "name": "stdout",
     "output_type": "stream",
     "text": [
      "Epoch 1/50\n",
      "8/8 [==============================] - 4s 243ms/step - loss: 1.8966 - accuracy: 0.5348 - val_loss: 0.7822 - val_accuracy: 0.5000\n",
      "Epoch 2/50\n",
      "8/8 [==============================] - 1s 164ms/step - loss: 0.9924 - accuracy: 0.6217 - val_loss: 1.0368 - val_accuracy: 0.5690\n",
      "Epoch 3/50\n",
      "8/8 [==============================] - 1s 163ms/step - loss: 0.8695 - accuracy: 0.5739 - val_loss: 1.3308 - val_accuracy: 0.5517\n",
      "Epoch 4/50\n",
      "8/8 [==============================] - 1s 161ms/step - loss: 0.7340 - accuracy: 0.6957 - val_loss: 0.7679 - val_accuracy: 0.5862\n",
      "Epoch 5/50\n",
      "8/8 [==============================] - 1s 160ms/step - loss: 0.7033 - accuracy: 0.6783 - val_loss: 0.7295 - val_accuracy: 0.6207\n",
      "Epoch 6/50\n",
      "8/8 [==============================] - 1s 160ms/step - loss: 0.5517 - accuracy: 0.7348 - val_loss: 0.6002 - val_accuracy: 0.6034\n",
      "Epoch 7/50\n",
      "8/8 [==============================] - 1s 162ms/step - loss: 0.5598 - accuracy: 0.7087 - val_loss: 0.8208 - val_accuracy: 0.6034\n",
      "Epoch 8/50\n",
      "8/8 [==============================] - 1s 160ms/step - loss: 0.5925 - accuracy: 0.7435 - val_loss: 0.5545 - val_accuracy: 0.7414\n",
      "Epoch 9/50\n",
      "8/8 [==============================] - 1s 164ms/step - loss: 0.4770 - accuracy: 0.7826 - val_loss: 0.6183 - val_accuracy: 0.6724\n",
      "Epoch 10/50\n",
      "8/8 [==============================] - 1s 166ms/step - loss: 0.4270 - accuracy: 0.7913 - val_loss: 0.5314 - val_accuracy: 0.7759\n",
      "Epoch 11/50\n",
      "8/8 [==============================] - 1s 163ms/step - loss: 0.3999 - accuracy: 0.8174 - val_loss: 0.5926 - val_accuracy: 0.7069\n",
      "Epoch 12/50\n",
      "8/8 [==============================] - 1s 160ms/step - loss: 0.3569 - accuracy: 0.8391 - val_loss: 0.5621 - val_accuracy: 0.7069\n",
      "Epoch 13/50\n",
      "8/8 [==============================] - 1s 165ms/step - loss: 0.3301 - accuracy: 0.8565 - val_loss: 0.6088 - val_accuracy: 0.7069\n",
      "Epoch 14/50\n",
      "8/8 [==============================] - 1s 164ms/step - loss: 0.3315 - accuracy: 0.8652 - val_loss: 0.5571 - val_accuracy: 0.7241\n",
      "Epoch 15/50\n",
      "8/8 [==============================] - 1s 175ms/step - loss: 0.3133 - accuracy: 0.8565 - val_loss: 0.6615 - val_accuracy: 0.7241\n"
     ]
    }
   ],
   "source": [
    "model.compile(\n",
    "    optimizer='adam',\n",
    "    loss='sparse_categorical_crossentropy',\n",
    "    metrics=['accuracy']\n",
    ")\n",
    "\n",
    "history = model.fit(\n",
    "    X_train,\n",
    "    y_train,\n",
    "    validation_split=0.2,\n",
    "    batch_size=32,\n",
    "    epochs=50,\n",
    "    callbacks=[\n",
    "        tf.keras.callbacks.EarlyStopping(\n",
    "            monitor='val_loss',\n",
    "            patience=5,\n",
    "            restore_best_weights=True\n",
    "        )\n",
    "    ]\n",
    ")"
   ]
  },
  {
   "cell_type": "code",
   "execution_count": 109,
   "metadata": {
    "colab": {
     "base_uri": "https://localhost:8080/"
    },
    "id": "-sWu-QoWOAfK",
    "outputId": "052515e7-efc6-499a-e412-4dd3ee947405"
   },
   "outputs": [
    {
     "name": "stdout",
     "output_type": "stream",
     "text": [
      "Test Accuracy: 66.667%\n"
     ]
    }
   ],
   "source": [
    "#calculating the test accuracy\n",
    "\n",
    "model_acc = model.evaluate(X_test, y_test, verbose=0)[1]\n",
    "print(\"Test Accuracy: {:.3f}%\".format(model_acc * 100))"
   ]
  },
  {
   "cell_type": "code",
   "execution_count": 110,
   "metadata": {
    "colab": {
     "base_uri": "https://localhost:8080/",
     "height": 705
    },
    "id": "S5o45tCbOW-l",
    "outputId": "761aa267-3737-449d-8168-dcc1bd122b49"
   },
   "outputs": [
    {
     "data": {
      "image/png": "[encoded data removed]",
      "text/plain": [
       "<Figure size 576x576 with 1 Axes>"
      ]
     },
     "metadata": {
      "needs_background": "light"
     },
     "output_type": "display_data"
    },
    {
     "name": "stdout",
     "output_type": "stream",
     "text": [
      "Classification Report:\n",
      "----------------------\n",
      "                   precision    recall  f1-score   support\n",
      "\n",
      "    low_workload       0.71      0.68      0.69        40\n",
      "medium_ workload       0.62      0.66      0.64        32\n",
      "\n",
      "        accuracy                           0.67        72\n",
      "       macro avg       0.66      0.67      0.66        72\n",
      "    weighted avg       0.67      0.67      0.67        72\n",
      "\n"
     ]
    }
   ],
   "source": [
    "#creating the confusion matrix\n",
    "#calculating the precision,recall and F1 score\n",
    "\n",
    "from sklearn.metrics import confusion_matrix\n",
    "from sklearn.metrics import classification_report\n",
    "\n",
    "\n",
    "y_pred = np.array(list(map(lambda x: np.argmax(x), model.predict(X_test))))\n",
    "\n",
    "cm = confusion_matrix(y_test, y_pred)\n",
    "\n",
    "label_mapping = {'low_workload': 0, 'medium_ workload': 1}\n",
    "clr = classification_report(y_test, y_pred, target_names=label_mapping.keys())\n",
    "\n",
    "plt.figure(figsize=(8, 8))\n",
    "sns.heatmap(cm, annot=True, vmin=0, fmt='g', cbar=False, cmap='Blues')\n",
    "plt.xticks(np.arange(3) + 0.5, label_mapping.keys())\n",
    "plt.yticks(np.arange(3) + 0.5, label_mapping.keys())\n",
    "plt.xlabel(\"Predicted\")\n",
    "plt.ylabel(\"Actual\")\n",
    "plt.title(\"Confusion Matrix\")\n",
    "plt.show()\n",
    "\n",
    "print(\"Classification Report:\\n----------------------\\n\", clr)"
   ]
  },
  {
   "cell_type": "markdown",
   "metadata": {
    "id": "hYZwGDp5HRrP"
   },
   "source": [
    "Deep learning code source :https://www.kaggle.com/code/gcdatkin/eeg-emotion-prediction/notebook\n"
   ]
  }
 ],
 "metadata": {
  "colab": {
   "collapsed_sections": [],
   "name": "NN_AND_DL.ipynb",
   "provenance": []
  },
  "kernelspec": {
   "display_name": "Python 3 (ipykernel)",
   "language": "python",
   "name": "python3"
  },
  "language_info": {
   "codemirror_mode": {
    "name": "ipython",
    "version": 3
   },
   "file_extension": ".py",
   "mimetype": "text/x-python",
   "name": "python",
   "nbconvert_exporter": "python",
   "pygments_lexer": "ipython3",
   "version": "3.9.7"
  }
 },
 "nbformat": 4,
 "nbformat_minor": 1
}
